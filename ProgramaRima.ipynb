{
  "nbformat": 4,
  "nbformat_minor": 0,
  "metadata": {
    "colab": {
      "name": "Untitled1.ipynb",
      "provenance": [],
      "authorship_tag": "ABX9TyOVwjwqGX5NebIrhMWAWkBo",
      "include_colab_link": true
    },
    "kernelspec": {
      "name": "python3",
      "display_name": "Python 3"
    },
    "language_info": {
      "name": "python"
    }
  },
  "cells": [
    {
      "cell_type": "markdown",
      "metadata": {
        "id": "view-in-github",
        "colab_type": "text"
      },
      "source": [
        "<a href=\"https://colab.research.google.com/github/Fenobarbitalli/TrabajosProgramacionAplicada/blob/main/ProgramaRima.ipynb\" target=\"_parent\"><img src=\"https://colab.research.google.com/assets/colab-badge.svg\" alt=\"Open In Colab\"/></a>"
      ]
    },
    {
      "cell_type": "code",
      "metadata": {
        "id": "QEYUtXXC6OPO"
      },
      "source": [
        ""
      ],
      "execution_count": null,
      "outputs": []
    },
    {
      "cell_type": "code",
      "metadata": {
        "colab": {
          "base_uri": "https://localhost:8080/"
        },
        "id": "roZ6c_pr4Ssv",
        "outputId": "e2d3352a-967f-4188-f55e-e562aac4449b"
      },
      "source": [
        "# Taller programa que busca palabras con rima:\n",
        "#Se abre el archivo de excel con las 500 palabras más comunes\n",
        "Lista = open('palabras500.csv',encoding='utf-8')\n",
        "#Ya abierto el archivo, a Renglon se le ingresa la lista\n",
        "Renglon = Lista.readlines()\n",
        "#Se cierra la lista\n",
        "Lista.close()\n",
        "#Se le especifica al usuario que ingrese la rima que quiere buscar en la lista\n",
        "Rima = input('Ingrese el final de la palabra con la cual quiere hacer la rima (Por ejemplo: Cazan ingresando an) \\n')\n",
        "print('Las palabras que han rimado son las siguientes:')\n",
        "#Se busca la rima ingresada\n",
        "for i in Renglon:\n",
        "  if Rima+'\\n' in i: \n",
        "    print(i)\n",
        "#El programa finaliza"
      ],
      "execution_count": 24,
      "outputs": [
        {
          "output_type": "stream",
          "name": "stdout",
          "text": [
            "Ingrese el final de la palabra con la cual quiere hacer la rima (Por ejemplo: Cazan ingresando an) \n",
            "er\n",
            "Las palabras que han rimado son las siguientes:\n",
            "ser\n",
            "\n",
            "hacer\n",
            "\n",
            "ver\n",
            "\n",
            "tener\n",
            "\n",
            "poder\n",
            "\n",
            "primer\n",
            "\n",
            "cualquier\n",
            "\n",
            "haber\n",
            "\n",
            "ayer\n",
            "\n",
            "conocer\n",
            "\n",
            "mujer\n",
            "\n",
            "saber\n",
            "\n"
          ]
        }
      ]
    }
  ]
}