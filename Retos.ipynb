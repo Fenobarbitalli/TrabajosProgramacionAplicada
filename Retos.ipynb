{
  "nbformat": 4,
  "nbformat_minor": 0,
  "metadata": {
    "colab": {
      "name": "Untitled6.ipynb",
      "provenance": []
    },
    "kernelspec": {
      "name": "python3",
      "display_name": "Python 3"
    },
    "language_info": {
      "name": "python"
    }
  },
  "cells": [
    {
      "cell_type": "code",
      "execution_count": 105,
      "metadata": {
        "colab": {
          "base_uri": "https://localhost:8080/"
        },
        "id": "YYDaF_iDuUD-",
        "outputId": "80e797f9-743a-4a7d-8bda-cc55e31fcc9c"
      },
      "outputs": [
        {
          "output_type": "stream",
          "name": "stdout",
          "text": [
            "El número se encuentra entre el intervalo 10-50\n",
            "[10, 12, 14, 16, 18, 20]\n",
            "En la casilla 64 Hay  18446744073709551615 de granos en total\n",
            "La media es:  3.8\n",
            "Adivina el número entero entre 1 y 100 que acaba de generarse aleatoriamente 50\n",
            " Te falta 75\n",
            " Te pasaste 62\n",
            " Te pasaste 56\n",
            " Te falta 59\n",
            " Te pasaste 58\n",
            " Te pasaste 57\n",
            "Felicidades adivinaste que el número es  57\n",
            "El número 1073460 tiene  4  cifras pares y  3  cifras impares\n"
          ]
        }
      ],
      "source": [
        "#RETOS DE RECUPERACIÓN RICARDO ALFONSO ROJAS ARANGUREN:\n",
        "import random\n",
        "#Reto 6:\n",
        "#Generar un número aleatorio entre 1 y 120. Decir si se encuentra\n",
        "#en el intervalo entre 10 y 50, o bien si es mayor de 50 hasta 100, \n",
        "#o bien si es mayor de 100, o bien si es menor de 10.\n",
        "\n",
        "def Reto6():\n",
        "  NumeroAleatorio = random.randint(1,120)\n",
        "\n",
        "  if(NumeroAleatorio <10):\n",
        "    print(\"El número es menor que 10\")\n",
        "\n",
        "  elif(NumeroAleatorio>=10 & NumeroAleatorio<=50):\n",
        "    print(\"El número se encuentra entre el intervalo 10-50\")\n",
        "\n",
        "  elif(NumeroAleatorio<50 & NumeroAleatorio >=100):\n",
        "    print(\"El número está en en intervalo 51-100\")\n",
        "\n",
        "  elif(NumeroAleatorio>100):\n",
        "    print(\"El número es mayor que 100\")\n",
        " \n",
        "Reto6()\n",
        "\n",
        "#Reto 8:\n",
        "#Listar los números pares del 10 al 20.\n",
        "\n",
        "print( [par for par in range(10,21) if par%2==0] )\n",
        "\n",
        "\n",
        "#Reto 10:\n",
        "#Calcular cuantos granos de trigo tendríamos que utilizar \n",
        "#si por cada casilla de un tablero de ajedrez pusiéramos un \n",
        "#grano en la primera casilla, dos en la segunda, cuatro en la tercera, y así doblando hasta la última.\n",
        "granos=0\n",
        "for casilla in range(64):\n",
        "  granos+=2**casilla\n",
        "print(\"En la casilla\",casilla+1,\"Hay \",granos,\"de granos en total\")\n",
        "\n",
        "#Reto 13\n",
        "#Calcular la media de dos números.\n",
        "\n",
        "def Reto13Promedio(numero1,numero2):\n",
        "  media = (numero1+numero2)/2\n",
        "  print(\"La media es: \", media)\n",
        "\n",
        "Reto13Promedio(3.0,4.6)\n",
        "\n",
        "#Reto 17\n",
        "#Se genera un número aleatorio entero entre 1 y 100. \n",
        "#El usuario debe adivinar el número secreto, diciendo en cada tirada si es mayor o menor.\n",
        "\n",
        "NumeroAleatorio = random.randint(1,100)\n",
        "NumeroIncertado=int(input(\"Adivina el número entero entre 1 y 100 que acaba de generarse aleatoriamente \"))\n",
        "while NumeroIncertado != NumeroAleatorio:\n",
        " \n",
        " if(NumeroIncertado < NumeroAleatorio):\n",
        "   NumeroIncertado=int(input(\" Te falta \"))\n",
        " elif(NumeroIncertado > NumeroAleatorio):\n",
        "   NumeroIncertado=int(input(\" Te pasaste \"))\n",
        "\n",
        "print(\"Felicidades adivinaste que el número es \",NumeroAleatorio)\n",
        "\n",
        "#Reto 26\n",
        "#Generar un número aleatorio entero entre un millón y dos millones. \n",
        "#Imprimir ese número en pantalla y decir cuántas cifras pares e impares tiene.\n",
        "\n",
        "NumeroAleatorio = random.randint(1000000,2000000)\n",
        "NumeroAleatorio=str(NumeroAleatorio)\n",
        "pares=0\n",
        "for cifra in NumeroAleatorio:\n",
        "  if int(cifra)%2==0:\n",
        "    pares+=1\n",
        "print(\"El número\",NumeroAleatorio,\"tiene \",pares,\" cifras pares y \",7-pares,\" cifras impares\")\n"
      ]
    }
  ]
}