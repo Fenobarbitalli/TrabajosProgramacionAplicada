{
  "nbformat": 4,
  "nbformat_minor": 0,
  "metadata": {
    "colab": {
      "name": "Untitled4.ipynb",
      "provenance": []
    },
    "kernelspec": {
      "name": "python3",
      "display_name": "Python 3"
    },
    "language_info": {
      "name": "python"
    }
  },
  "cells": [
    {
      "cell_type": "code",
      "metadata": {
        "colab": {
          "base_uri": "https://localhost:8080/"
        },
        "id": "C_2W6BMwx_nn",
        "outputId": "e75ef5ad-5a84-41a1-bb91-8b20aed36704"
      },
      "source": [
        "# Punto 3):\n",
        "def Sumatoria_1(A,B,C):\n",
        "  n=len(A)\n",
        "  \n",
        "  Suma= 0\n",
        "  for i in range(n):\n",
        "    Producto = A[i] * B[i]\n",
        "    Suma = Suma + Producto + C[i]\n",
        "  return(Suma + (n**2))\n",
        "\n",
        "# Punto 4): \n",
        "def LlenaLista(A,B):\n",
        "  n=len(A)//2\n",
        "  C=[]\n",
        "  for i in range(n):\n",
        "    Indice = ( (((A[i+1])**2) * B[2*i]) + B[n+i] )\n",
        "    C.append(Indice)\n",
        "  return(C)\n",
        "\n",
        "a_1= [1,2,3]\n",
        "b_1= [2,2,3]\n",
        "c_1= [4,5,6]\n",
        "a_2 = [1,2,3,4]\n",
        "b_2 = [2,4,6,8]\n",
        "\n",
        "print( Sumatoria_1(a_1,b_1,c_1))\n",
        "print( LlenaLista(a_2,b_2) )\n"
      ],
      "execution_count": 35,
      "outputs": [
        {
          "output_type": "stream",
          "name": "stdout",
          "text": [
            "39\n",
            "[14, 62]\n"
          ]
        }
      ]
    }
  ]
}